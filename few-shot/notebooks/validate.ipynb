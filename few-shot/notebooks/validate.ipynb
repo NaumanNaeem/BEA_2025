{
 "cells": [
  {
   "cell_type": "code",
   "execution_count": 7,
   "id": "a7a53ed5",
   "metadata": {},
   "outputs": [],
   "source": [
    "import json\n",
    "import pandas as pd\n",
    "\n",
    "# Load JSON data\n",
    "with open(\"../data/raw/mrbench_v3_testset.json\", \"r\", encoding=\"utf-8\") as f:\n",
    "    data = json.load(f)\n",
    "\n",
    "# Ensure data is a list\n",
    "if isinstance(data, dict):\n",
    "    data = [data]\n",
    "\n",
    "# Create flattened rows for each model\n",
    "rows = []\n",
    "for item in data:\n",
    "    for model, response_data in item[\"tutor_responses\"].items():\n",
    "        row = {\n",
    "            \"conversation_id\": item[\"conversation_id\"],\n",
    "            \"conversation_history\": item[\"conversation_history\"],\n",
    "            \"model\": model,\n",
    "            \"response\": response_data.get(\"response\", None),\n",
    "        }\n",
    "        annotation = response_data.get(\"annotation\", {})\n",
    "        for key, value in annotation.items():\n",
    "            row[f\"annotation_{key}\"] = value\n",
    "        rows.append(row)\n",
    "\n",
    "# Convert to DataFrame\n",
    "df_flat_old = pd.DataFrame(rows)"
   ]
  },
  {
   "cell_type": "code",
   "execution_count": 8,
   "id": "ab636951",
   "metadata": {},
   "outputs": [
    {
     "data": {
      "text/plain": [
       "1547"
      ]
     },
     "execution_count": 8,
     "metadata": {},
     "output_type": "execute_result"
    }
   ],
   "source": [
    "len(df_flat_old)"
   ]
  },
  {
   "cell_type": "code",
   "execution_count": 9,
   "id": "40d96511",
   "metadata": {},
   "outputs": [],
   "source": [
    "import json\n",
    "import pandas as pd\n",
    "\n",
    "# Load JSON data\n",
    "with open(\"../data/processed/mrbench_v3_testset_processed.json\", \"r\", encoding=\"utf-8\") as f:\n",
    "    data = json.load(f)\n",
    "\n",
    "# Ensure data is a list\n",
    "if isinstance(data, dict):\n",
    "    data = [data]\n",
    "\n",
    "# Create flattened rows for each model\n",
    "rows = []\n",
    "for item in data:\n",
    "    for model, response_data in item[\"tutor_responses\"].items():\n",
    "        row = {\n",
    "            \"conversation_id\": item[\"conversation_id\"],\n",
    "            \"conversation_history\": item[\"conversation_history\"],\n",
    "            \"model\": model,\n",
    "            \"response\": response_data.get(\"response\", None),\n",
    "        }\n",
    "        annotation = response_data.get(\"annotation\", {})\n",
    "        for key, value in annotation.items():\n",
    "            row[f\"annotation_{key}\"] = value\n",
    "        rows.append(row)\n",
    "\n",
    "# Convert to DataFrame\n",
    "df_flat = pd.DataFrame(rows)"
   ]
  },
  {
   "cell_type": "code",
   "execution_count": 10,
   "id": "4128f595",
   "metadata": {},
   "outputs": [
    {
     "data": {
      "text/plain": [
       "1547"
      ]
     },
     "execution_count": 10,
     "metadata": {},
     "output_type": "execute_result"
    }
   ],
   "source": [
    "len(df_flat)"
   ]
  },
  {
   "cell_type": "code",
   "execution_count": 12,
   "id": "427686f0",
   "metadata": {},
   "outputs": [
    {
     "name": "stdout",
     "output_type": "stream",
     "text": [
      "Empty DataFrame\n",
      "Columns: []\n",
      "Index: []\n"
     ]
    }
   ],
   "source": [
    "# Get all conversation IDs + model names missing in the new data\n",
    "missing = []\n",
    "for _, row in df_flat_old.iterrows():\n",
    "    if not ((df_flat[\"conversation_id\"] == row[\"conversation_id\"]) & (df_flat[\"model\"] == row[\"model\"])).any():\n",
    "        missing.append(row)\n",
    "missing = pd.DataFrame(missing)\n",
    "\n",
    "print(missing)\n"
   ]
  },
  {
   "cell_type": "code",
   "execution_count": null,
   "id": "b1b9f75a",
   "metadata": {},
   "outputs": [],
   "source": []
  }
 ],
 "metadata": {
  "kernelspec": {
   "display_name": ".venv",
   "language": "python",
   "name": "python3"
  },
  "language_info": {
   "codemirror_mode": {
    "name": "ipython",
    "version": 3
   },
   "file_extension": ".py",
   "mimetype": "text/x-python",
   "name": "python",
   "nbconvert_exporter": "python",
   "pygments_lexer": "ipython3",
   "version": "3.11.7"
  }
 },
 "nbformat": 4,
 "nbformat_minor": 5
}
