{
 "cells": [
  {
   "cell_type": "code",
   "execution_count": 1,
   "id": "7470c3c2",
   "metadata": {},
   "outputs": [],
   "source": [
    "import pandas as pd"
   ]
  },
  {
   "cell_type": "code",
   "execution_count": 3,
   "id": "c17a3c81",
   "metadata": {},
   "outputs": [],
   "source": [
    "df = pd.read_json('../data/processed/predictions.json')"
   ]
  },
  {
   "cell_type": "code",
   "execution_count": null,
   "id": "27e0f08b",
   "metadata": {},
   "outputs": [],
   "source": []
  }
 ],
 "metadata": {
  "kernelspec": {
   "display_name": ".venv",
   "language": "python",
   "name": "python3"
  },
  "language_info": {
   "codemirror_mode": {
    "name": "ipython",
    "version": 3
   },
   "file_extension": ".py",
   "mimetype": "text/x-python",
   "name": "python",
   "nbconvert_exporter": "python",
   "pygments_lexer": "ipython3",
   "version": "3.11.7"
  }
 },
 "nbformat": 4,
 "nbformat_minor": 5
}
