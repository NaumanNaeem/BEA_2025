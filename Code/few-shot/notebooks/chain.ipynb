{
 "cells": [
  {
   "cell_type": "code",
   "execution_count": 1,
   "id": "08c6d601",
   "metadata": {},
   "outputs": [],
   "source": [
    "import sys\n",
    "sys.path.append(\"../src\")"
   ]
  },
  {
   "cell_type": "code",
   "execution_count": 2,
   "id": "24ec6fff",
   "metadata": {},
   "outputs": [
    {
     "name": "stderr",
     "output_type": "stream",
     "text": [
      "\u001b[32;20mINFO - langchain_model.__new__\u001b[0m: Using model: openai o3-mini\n"
     ]
    }
   ],
   "source": [
    "from prompt import chain"
   ]
  },
  {
   "cell_type": "code",
   "execution_count": 3,
   "id": "a2561ac4",
   "metadata": {},
   "outputs": [
    {
     "data": {
      "text/plain": [
       "MistakeIdentificationModel(temporal_expression='Yes')"
      ]
     },
     "execution_count": 3,
     "metadata": {},
     "output_type": "execute_result"
    }
   ],
   "source": [
    "chain.invoke(\n",
    "    {\n",
    "        \"conversation\": \"Tutor: Hi, could you please provide a step-by-step solution for the question below? The question is: Tyson decided to make muffaletta sandwiches for the big game.  Each sandwich required 1 pound each of meat and cheese and would serve 4 people.  There would be 20 people in total watching the game.  The meat cost $7.00 per pound and the cheese cost $3.00 per pound.  How much money would he spend on the meat and cheese to make enough sandwiches to serve 20 people? \\n Student: To serve 20 people, Tyson needs to make 20/4 = 5 sandwiches.\\nEach sandwich requires 1+1 = 2 pounds of meat and cheese.\\nFor 5 sandwiches, he needs a total of 2 x 5 = 10 pounds of meat and cheese.\\nThe cost of 10 pounds of meat is 10 x $7.00 = $70.\\nThe cost of 10 pounds of cheese is 10 x $3.00 = $30.\\nThe total cost of meat and cheese is $70 + $30 = $100.\\n 100 \\n Tutor: do you want to talk me through your solution \\n Student: Yes I think my answer is correct. I used 10 pounds of meat and 10 pounds of cheese so I multiplied 7 dollars times 10 pounds for the meat and 3 dollars times 10 pounds for the cheese. That gave me a total of $100 for the meat and cheese\",\n",
    "        \"response\": \"It looks like you've done a great job figuring out how many pounds of meat and cheese Tyson needs, but remember that he uses 1 pound of each for every sandwich!\"\n",
    "    }\n",
    ")"
   ]
  },
  {
   "cell_type": "code",
   "execution_count": null,
   "id": "b7826202",
   "metadata": {},
   "outputs": [],
   "source": []
  }
 ],
 "metadata": {
  "kernelspec": {
   "display_name": ".venv",
   "language": "python",
   "name": "python3"
  },
  "language_info": {
   "codemirror_mode": {
    "name": "ipython",
    "version": 3
   },
   "file_extension": ".py",
   "mimetype": "text/x-python",
   "name": "python",
   "nbconvert_exporter": "python",
   "pygments_lexer": "ipython3",
   "version": "3.11.7"
  }
 },
 "nbformat": 4,
 "nbformat_minor": 5
}
